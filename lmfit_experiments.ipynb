{
 "cells": [
  {
   "cell_type": "code",
   "execution_count": null,
   "metadata": {},
   "outputs": [],
   "source": [
    "Fe = eb.get_element(26)\n",
    "@nb.njit\n",
    "def artif_spec(ekin, bg, delta_ekin, fwhm, w_he, w_li, w_be, w_b, w_c, w_n, w_o):\n",
    "    _, xs = eb.xs.drxs_energyscan(Fe, fwhm, ekin + delta_ekin)\n",
    "    he = w_he * xs[-3]\n",
    "    li = w_li * xs[-4]\n",
    "    be = w_be * xs[-5]\n",
    "    b = w_b * xs[-6]\n",
    "    c = w_c * xs[-7]\n",
    "    n = w_n * xs[-8]\n",
    "    o = w_o * xs[-9]\n",
    "    return (he + li + be + b + c + n + o) * 1.e24 + bg\n",
    "\n"
   ]
  },
  {
   "cell_type": "code",
   "execution_count": 16,
   "metadata": {},
   "outputs": [
    {
     "data": {
      "text/html": [
       "<table><tr><th> name </th><th> value </th><th> initial value </th><th> min </th><th> max </th><th> vary </th></tr><tr><td> bg </td><td>        -inf </td><td> None </td><td>  0.00000000 </td><td>         inf </td><td> True </td></tr><tr><td> delta_ekin </td><td>        -inf </td><td> None </td><td> -250.000000 </td><td>  100.000000 </td><td> True </td></tr><tr><td> fwhm </td><td>        -inf </td><td> None </td><td>  0.10000000 </td><td>  100.000000 </td><td> True </td></tr><tr><td> w_he </td><td>        -inf </td><td> None </td><td>  0.00000000 </td><td>  1000.00000 </td><td> True </td></tr><tr><td> w_li </td><td>        -inf </td><td> None </td><td>  0.00000000 </td><td>  1000.00000 </td><td> True </td></tr><tr><td> w_be </td><td>        -inf </td><td> None </td><td>  0.00000000 </td><td>  1000.00000 </td><td> True </td></tr><tr><td> w_b </td><td>        -inf </td><td> None </td><td>  0.00000000 </td><td>  1000.00000 </td><td> True </td></tr><tr><td> w_c </td><td>        -inf </td><td> None </td><td>  0.00000000 </td><td>  1000.00000 </td><td> True </td></tr><tr><td> w_n </td><td>        -inf </td><td> None </td><td>  0.00000000 </td><td>  1000.00000 </td><td> True </td></tr><tr><td> w_o </td><td>        -inf </td><td> None </td><td>  0.00000000 </td><td>  1000.00000 </td><td> True </td></tr></table>"
      ],
      "text/plain": [
       "Parameters([('bg', <Parameter 'bg', value=-inf, bounds=[0:inf]>),\n",
       "            ('delta_ekin',\n",
       "             <Parameter 'delta_ekin', value=-inf, bounds=[-250:100]>),\n",
       "            ('fwhm', <Parameter 'fwhm', value=-inf, bounds=[0.1:100]>),\n",
       "            ('w_he', <Parameter 'w_he', value=-inf, bounds=[0:1000]>),\n",
       "            ('w_li', <Parameter 'w_li', value=-inf, bounds=[0:1000]>),\n",
       "            ('w_be', <Parameter 'w_be', value=-inf, bounds=[0:1000]>),\n",
       "            ('w_b', <Parameter 'w_b', value=-inf, bounds=[0:1000]>),\n",
       "            ('w_c', <Parameter 'w_c', value=-inf, bounds=[0:1000]>),\n",
       "            ('w_n', <Parameter 'w_n', value=-inf, bounds=[0:1000]>),\n",
       "            ('w_o', <Parameter 'w_o', value=-inf, bounds=[0:1000]>)])"
      ]
     },
     "execution_count": 16,
     "metadata": {},
     "output_type": "execute_result"
    }
   ],
   "source": [
    "from lmfit import Model\n",
    "artif_model = Model(artif_spec)\n",
    "artif_model.set_param_hint(\"bg\", min=0)\n",
    "artif_model.set_param_hint(\"delta_ekin\", min=-250, max=100)\n",
    "artif_model.set_param_hint(\"fwhm\", min=0.1, max=100)\n",
    "artif_model.set_param_hint(\"w_he\", min=0, max=1000)\n",
    "artif_model.set_param_hint(\"w_li\", min=0, max=1000)\n",
    "artif_model.set_param_hint(\"w_be\", min=0, max=1000)\n",
    "artif_model.set_param_hint(\"w_b\", min=0, max=1000)\n",
    "artif_model.set_param_hint(\"w_c\", min=0, max=1000)\n",
    "artif_model.set_param_hint(\"w_n\", min=0, max=1000)\n",
    "artif_model.set_param_hint(\"w_o\", min=0, max=1000)\n",
    "artif_model.make_params()"
   ]
  },
  {
   "cell_type": "code",
   "execution_count": null,
   "metadata": {},
   "outputs": [],
   "source": [
    "data = hist[:, -10:].mean(axis=-1)\n",
    "x = .5*ex[1:] + .5*ex[:-1]\n",
    "y = .5*ey[1:] + .5*ey[:-1]\n",
    "\n",
    "e_kin = 4400 + 800/(x[-1]-x[0]) * (x-x[0])\n",
    "t = 7/(y[-1]-y[0]) * (y-y[0])\n",
    "\n",
    "\n",
    "res = artif_model.fit(\n",
    "    data, ekin=e_kin,\n",
    "    bg=100,\n",
    "    delta_ekin=-90,\n",
    "    fwhm=3,\n",
    "    w_he=10,\n",
    "    w_li=10,\n",
    "    w_be=10,\n",
    "    w_b=10,\n",
    "    w_c=10,\n",
    "    w_n=10,\n",
    "    w_o=10,\n",
    "    calc_covar=True,\n",
    "#     method=\"basinhopping\"\n",
    ")"
   ]
  },
  {
   "cell_type": "code",
   "execution_count": null,
   "metadata": {},
   "outputs": [],
   "source": [
    "res"
   ]
  },
  {
   "cell_type": "code",
   "execution_count": null,
   "metadata": {},
   "outputs": [],
   "source": [
    "res.plot(data_kws={\"ms\":1}, fig_kws={\"figsize\":(10,10)})"
   ]
  },
  {
   "cell_type": "code",
   "execution_count": null,
   "metadata": {},
   "outputs": [],
   "source": [
    "from tqdm import tqdm\n",
    "nrows = 10\n",
    "strips = hist.shape[1]//nrows\n",
    "popts = []\n",
    "stdes = []\n",
    "# del res\n",
    "for k in tqdm(range(strips)[::-1]):\n",
    "    \n",
    "    data = hist[:, k*nrows:(k+1)*nrows].mean(axis=-1)\n",
    "\n",
    "    try:\n",
    "        res = artif_model.fit(\n",
    "            data, ekin=e_kin,\n",
    "            bg=100,\n",
    "            delta_ekin=-90,\n",
    "            fwhm=15,\n",
    "            w_he=10,\n",
    "            w_li=10,\n",
    "            w_be=10,\n",
    "            w_b=10,\n",
    "            w_c=10,\n",
    "            w_n=10,\n",
    "            w_o=10,\n",
    "            calc_covar=True,\n",
    "#             method=\"bfgs\"\n",
    "        )\n",
    "        popts.append([p.value for k, p in res.params.items()])\n",
    "        stdes.append([p.stderr for k, p in res.params.items()])\n",
    "    except TypeError:\n",
    "        popts.append(np.zeros(10))\n",
    "        stdes.append(np.zeros(10))\n",
    "popts = np.array(popts[::-1])\n",
    "stdes = np.array(stdes[::-1])\n",
    "    "
   ]
  },
  {
   "cell_type": "code",
   "execution_count": null,
   "metadata": {},
   "outputs": [],
   "source": [
    "plt.subplots(figsize=(15,15))\n",
    "plt.plot(popts[:, 3:],\".-\")\n",
    "plt.ylim(0,100)"
   ]
  },
  {
   "cell_type": "code",
   "execution_count": null,
   "metadata": {},
   "outputs": [],
   "source": [
    "for i in range(3, popts.shape[1]):\n",
    "    plt.fill_between(range(strips), popts[:, i] - stdes[:, i], popts[:, i] + stdes[:, i])"
   ]
  },
  {
   "cell_type": "code",
   "execution_count": null,
   "metadata": {},
   "outputs": [],
   "source": [
    "popts"
   ]
  },
  {
   "cell_type": "code",
   "execution_count": null,
   "metadata": {},
   "outputs": [],
   "source": []
  },
  {
   "cell_type": "code",
   "execution_count": null,
   "metadata": {},
   "outputs": [],
   "source": []
  },
  {
   "cell_type": "code",
   "execution_count": null,
   "metadata": {},
   "outputs": [],
   "source": [
    "_ = eb.plot_combined_xs(26,20, legend=False)"
   ]
  }
 ],
 "metadata": {
  "kernelspec": {
   "display_name": "Python 3",
   "language": "python",
   "name": "python3"
  },
  "language_info": {
   "codemirror_mode": {
    "name": "ipython",
    "version": 3
   },
   "file_extension": ".py",
   "mimetype": "text/x-python",
   "name": "python",
   "nbconvert_exporter": "python",
   "pygments_lexer": "ipython3",
   "version": "3.7.4"
  }
 },
 "nbformat": 4,
 "nbformat_minor": 4
}
